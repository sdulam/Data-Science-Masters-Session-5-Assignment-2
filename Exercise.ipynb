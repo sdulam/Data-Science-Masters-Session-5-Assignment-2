{
 "cells": [
  {
   "cell_type": "code",
   "execution_count": 35,
   "metadata": {},
   "outputs": [],
   "source": [
    "class Person:\n",
    "    def __init__(self):\n",
    "        self._fname = \"\"\n",
    "        self._lname = \"\"\n",
    "        self._gender = ''\n",
    "        self._year_of_birth = 0\n",
    "        \n",
    "    def setFName(self, fname):\n",
    "        \"\"\"setFName for setting fname variable\n",
    "        fname should be string and length should be greater than 2\n",
    "        \"\"\"\n",
    "        if type(fname) == str and len(fname) > 2:\n",
    "            self._fname = fname\n",
    "        else:\n",
    "            print(\"FName should be string or length should be greater than 2\")\n",
    "            \n",
    "\n",
    "    def setLName(self, lname):\n",
    "        \"\"\"setLName for setting fname variable\n",
    "        lname should be string and length should be greater than 2\n",
    "        \"\"\"        \n",
    "        if type(lname) == str and len(lname) > 2:\n",
    "            self._lname = lname\n",
    "        else:\n",
    "            print(\"LName should be string or length should be greater than 2\")            \n",
    "            \n",
    "    def setGender(self, gender):\n",
    "        if gender in ('m','f'):\n",
    "            self._gender = gender\n",
    "        else:\n",
    "            print(\"Gender should be 'm' or 'f'\")\n",
    "            \n",
    "    def setYearOfBirth(self, year_of_birth):\n",
    "        if year_of_birth in range(1900, 2019):\n",
    "            self._year_of_birth = year_of_birth\n",
    "        else:\n",
    "            print(\"Year of birth should be integer between 1900 to 2018\")\n",
    "            \n",
    "    def getFName(self):\n",
    "        if self._fname == \"\":\n",
    "            print(\"FName is not set, please call setFName\")\n",
    "        else:\n",
    "            return self._fname\n",
    "    \n",
    "    def getLName(self):\n",
    "        if self._lname == \"\":\n",
    "            print(\"FName is not set, please call setFName\")\n",
    "        else:\n",
    "            return self._lname        \n",
    "    \n",
    "    def getGender(self):\n",
    "        if self._gender == '':\n",
    "            print(\"Gender is not set, please call setGender\")\n",
    "        else:\n",
    "            return self._gender\n",
    "    \n",
    "    def getYearOfBirth(self):\n",
    "        if self._year_of_birth == 0:\n",
    "            print(\"Year of Birth is not set, please call setYearOfBirth method\")\n",
    "        else:\n",
    "            return self._year_of_birth\n",
    "        \n",
    "    def __str__(self):\n",
    "        return \"This is {} {}\".format(self._fname, self._lname)\n",
    "                "
   ]
  },
  {
   "cell_type": "code",
   "execution_count": 6,
   "metadata": {},
   "outputs": [],
   "source": [
    "p = Person()"
   ]
  },
  {
   "cell_type": "code",
   "execution_count": 7,
   "metadata": {},
   "outputs": [],
   "source": [
    "p.setFName('Satya')\n",
    "p.setLName('Nadella')\n",
    "p.setGender('m')\n",
    "p.setYearOfBirth(1991)"
   ]
  },
  {
   "cell_type": "code",
   "execution_count": 8,
   "metadata": {},
   "outputs": [
    {
     "name": "stdout",
     "output_type": "stream",
     "text": [
      "This is Satya Nadella\n"
     ]
    }
   ],
   "source": [
    "print(p)"
   ]
  },
  {
   "cell_type": "code",
   "execution_count": 36,
   "metadata": {},
   "outputs": [],
   "source": [
    "class Employee(Person):\n",
    "    def __init__(self):\n",
    "        Person.__init__(self)\n",
    "        self._emp_id = 0\n",
    "        self._emp_dept = ''\n",
    "        \n",
    "    def setEmpID(self, emp_id):\n",
    "        if type(emp_id) == int:\n",
    "            self._emp_id = emp_id\n",
    "        else:\n",
    "            print(\"Emp id should be integer\")\n",
    "    \n",
    "    def setEmpDept(self, emp_dept):\n",
    "        if type(emp_dept) == str and len(emp_dept) == 2:\n",
    "            self._emp_dept = emp_dept\n",
    "        else:\n",
    "            print(\"Emp Dept should be string and have a length of 2\")\n",
    "            \n",
    "    def getEmpID(self):\n",
    "        if self._emp_id == 0:\n",
    "            print(\"Emp id is not set, please call setEmpID\")\n",
    "        else:\n",
    "            return self._emp_id\n",
    "        \n",
    "    def getEmpDept(self):\n",
    "        if self._emp_dept == '':\n",
    "            print(\"Emp Dept is not set, please call setEmpDept\")\n",
    "        else:\n",
    "            return self._emp_dept\n",
    "        \n",
    "    def __str__(self):\n",
    "        return \"Emp ID {}, Emp Name {} {} , Emp Dept {}\".format(self._emp_id, self._fname, self._lname, self._emp_dept)"
   ]
  },
  {
   "cell_type": "code",
   "execution_count": 37,
   "metadata": {},
   "outputs": [],
   "source": [
    "emp1 = Employee()\n",
    "emp1.setFName('Sunder')\n",
    "emp1.setLName('Pichai')\n",
    "emp1.setGender('m')\n",
    "emp1.setYearOfBirth(1991)\n",
    "emp1.setEmpID(1002)\n",
    "emp1.setEmpDept('IT')\n",
    "\n",
    "emp2 = Employee()\n",
    "emp2.setFName('Satya')\n",
    "emp2.setLName('Nadella')\n",
    "emp2.setGender('m')\n",
    "emp2.setYearOfBirth(1987)\n",
    "emp2.setEmpID(1001)\n",
    "emp2.setEmpDept('MS')\n",
    "\n",
    "emp3 = Employee()\n",
    "emp3.setFName('Christina')\n",
    "emp3.setLName('Ricci')\n",
    "emp3.setGender('m')\n",
    "emp3.setYearOfBirth(1987)\n",
    "emp3.setEmpID(1003)\n",
    "emp3.setEmpDept('MS')\n",
    "\n",
    "emp4 = Employee()\n",
    "emp4.setFName('Elon')\n",
    "emp4.setLName('Musk')\n",
    "emp4.setGender('m')\n",
    "emp4.setYearOfBirth(1986)\n",
    "emp4.setEmpID(1004)\n",
    "emp4.setEmpDept('TS')"
   ]
  },
  {
   "cell_type": "code",
   "execution_count": 45,
   "metadata": {},
   "outputs": [],
   "source": [
    "class FileEmp:\n",
    "    def __init__(self, filename):\n",
    "        self._filename = filename\n",
    "        \n",
    "    def addEmployeeToFile(self, emp):\n",
    "        fname = emp.getFName()\n",
    "        lname = emp.getLName()\n",
    "        gender = emp.getGender()\n",
    "        yob = emp.getYearOfBirth()\n",
    "        empid = emp.getEmpID()\n",
    "        empdept = emp.getEmpDept()\n",
    "        \n",
    "        try:\n",
    "            file = open(self._filename, 'a+')\n",
    "            file.write(fname + \",\" + lname + \",\" + gender + \",\" + str(yob) + \",\" + str(empid) + \",\" + empdept + \",\"+'\\n')\n",
    "            file.close()\n",
    "        except Exception as e:\n",
    "            print('Error, ',e)\n",
    "            \n",
    "    def getEmployees(self):\n",
    "        try:\n",
    "            empfile = open(self._filename, 'r')\n",
    "            emplist = []\n",
    "            for emp in empfile:\n",
    "                empdetails = emp.split(\",\")\n",
    "                #print(empdetails[0], empdetails[1], empdetails[2],empdetails[3], empdetails[4], empdetails[5])\n",
    "                e = Employee()\n",
    "                e.setFName(empdetails[0])\n",
    "                e.setLName(empdetails[1])\n",
    "                e.setGender(empdetails[2])\n",
    "                e.setYearOfBirth(int(empdetails[3]))\n",
    "                e.setEmpID(int(empdetails[4]))\n",
    "                print(empdetails[5], type(empdetails[5]), len(empdetails[5]))\n",
    "                e.setEmpDept(empdetails[5])\n",
    "                emplist.append(e)\n",
    "            return emplist\n",
    "        except Exception as e:\n",
    "            print(e)\n",
    "            "
   ]
  },
  {
   "cell_type": "code",
   "execution_count": 46,
   "metadata": {},
   "outputs": [],
   "source": [
    "fileemp = FileEmp('employees.csv')"
   ]
  },
  {
   "cell_type": "code",
   "execution_count": 47,
   "metadata": {},
   "outputs": [],
   "source": [
    "fileemp.addEmployeeToFile(emp1)"
   ]
  },
  {
   "cell_type": "code",
   "execution_count": 48,
   "metadata": {},
   "outputs": [],
   "source": [
    "fileemp.addEmployeeToFile(emp2)\n",
    "fileemp.addEmployeeToFile(emp3)\n",
    "fileemp.addEmployeeToFile(emp4)"
   ]
  },
  {
   "cell_type": "code",
   "execution_count": 34,
   "metadata": {},
   "outputs": [
    {
     "name": "stdout",
     "output_type": "stream",
     "text": [
      "Emp ID 1002, Emp Name Sunder Pichai , Emp Dept IT\n",
      "Emp ID 1001, Emp Name Satya Nadella , Emp Dept MS\n",
      "Emp ID 1003, Emp Name Christina Ricci , Emp Dept MS\n",
      "Emp ID 1004, Emp Name Elon Musk , Emp Dept TS\n"
     ]
    }
   ],
   "source": [
    "for emp in [emp1, emp2,emp3,emp4]:\n",
    "    print(emp)"
   ]
  },
  {
   "cell_type": "code",
   "execution_count": 49,
   "metadata": {},
   "outputs": [
    {
     "name": "stdout",
     "output_type": "stream",
     "text": [
      "IT <class 'str'> 2\n",
      "MS <class 'str'> 2\n",
      "MS <class 'str'> 2\n",
      "TS <class 'str'> 2\n"
     ]
    }
   ],
   "source": [
    "emplist = fileemp.getEmployees()"
   ]
  },
  {
   "cell_type": "code",
   "execution_count": 50,
   "metadata": {},
   "outputs": [
    {
     "name": "stdout",
     "output_type": "stream",
     "text": [
      "Emp ID 1002, Emp Name Sunder Pichai , Emp Dept IT\n",
      "Emp ID 1001, Emp Name Satya Nadella , Emp Dept MS\n",
      "Emp ID 1003, Emp Name Christina Ricci , Emp Dept MS\n",
      "Emp ID 1004, Emp Name Elon Musk , Emp Dept TS\n"
     ]
    }
   ],
   "source": [
    "for emp in emplist:\n",
    "    print(emp)"
   ]
  },
  {
   "cell_type": "code",
   "execution_count": 57,
   "metadata": {},
   "outputs": [],
   "source": [
    "l = ['x','y','z']"
   ]
  },
  {
   "cell_type": "code",
   "execution_count": 63,
   "metadata": {},
   "outputs": [
    {
     "name": "stdout",
     "output_type": "stream",
     "text": [
      "x\n",
      "xx\n",
      "xxx\n",
      "y\n",
      "yy\n",
      "yyy\n",
      "z\n",
      "zz\n",
      "zzz\n"
     ]
    }
   ],
   "source": [
    "for i in l:\n",
    "    for j in range(1,4):\n",
    "        print(i*j)"
   ]
  },
  {
   "cell_type": "code",
   "execution_count": 66,
   "metadata": {},
   "outputs": [],
   "source": [
    "r = int(input())\n",
    "arr = [x*i for x in l for i in range(1,r)]"
   ]
  },
  {
   "cell_type": "code",
   "execution_count": 67,
   "metadata": {},
   "outputs": [
    {
     "name": "stdout",
     "output_type": "stream",
     "text": [
      "['x', 'xx', 'xxx', 'xxxx', 'y', 'yy', 'yyy', 'yyyy', 'z', 'zz', 'zzz', 'zzzz']\n"
     ]
    }
   ],
   "source": [
    "print(arr)"
   ]
  },
  {
   "cell_type": "code",
   "execution_count": null,
   "metadata": {},
   "outputs": [],
   "source": []
  }
 ],
 "metadata": {
  "kernelspec": {
   "display_name": "Python 3",
   "language": "python",
   "name": "python3"
  },
  "language_info": {
   "codemirror_mode": {
    "name": "ipython",
    "version": 3
   },
   "file_extension": ".py",
   "mimetype": "text/x-python",
   "name": "python",
   "nbconvert_exporter": "python",
   "pygments_lexer": "ipython3",
   "version": "3.6.4"
  }
 },
 "nbformat": 4,
 "nbformat_minor": 2
}
